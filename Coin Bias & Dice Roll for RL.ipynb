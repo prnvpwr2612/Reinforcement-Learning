{
 "cells": [
  {
   "cell_type": "code",
   "execution_count": 1,
   "metadata": {},
   "outputs": [
    {
     "name": "stdout",
     "output_type": "stream",
     "text": [
      "[56 47 48 55 55 51 54 43 55 40]\n",
      "49.968\n"
     ]
    }
   ],
   "source": [
    "import numpy as np\n",
    "from numpy.random import default_rng\n",
    "rng = default_rng(seed=100)\n",
    "ssp = [1, 0]\n",
    "asp = [1, 0]\n",
    "def epoch():\n",
    "    tr = 0\n",
    "    for _ in range(100):\n",
    "        a = rng.choice(asp)\n",
    "        s = rng.choice(ssp)\n",
    "        if a == s:\n",
    "            tr += 1\n",
    "    return tr\n",
    "rl = np.array([epoch() for _ in range(250)])\n",
    "print(rl[:10])\n",
    "print(rl.mean())"
   ]
  },
  {
   "cell_type": "code",
   "execution_count": 2,
   "metadata": {},
   "outputs": [
    {
     "name": "stdout",
     "output_type": "stream",
     "text": [
      "[53 56 40 55 53 49 43 45 50 51]\n",
      "49.924\n"
     ]
    }
   ],
   "source": [
    "ssp = [1, 1, 1, 1, 0]\n",
    "asp = [1, 0]\n",
    "def epoch():\n",
    "    tr = 0\n",
    "    for _ in range(100):\n",
    "        a = rng.choice(asp)\n",
    "        s = rng.choice(ssp)\n",
    "        if a == s:\n",
    "            tr += 1\n",
    "    return tr\n",
    "rl = np.array([epoch() for _ in range(250)])\n",
    "print(rl[:10])\n",
    "print(rl.mean())"
   ]
  },
  {
   "cell_type": "code",
   "execution_count": 3,
   "metadata": {},
   "outputs": [
    {
     "name": "stdout",
     "output_type": "stream",
     "text": [
      "[71 65 67 69 68 72 68 68 77 73]\n",
      "66.78\n"
     ]
    }
   ],
   "source": [
    "ssp = [1, 1, 1, 1, 0]\n",
    "def epoch(n):\n",
    "    tr = 0\n",
    "    asp = [0, 1]\n",
    "    for _ in range(n):\n",
    "        a = rng.choice(asp)\n",
    "        s = rng.choice(ssp)\n",
    "        if a == s:\n",
    "            tr += 1\n",
    "        asp.append(s)\n",
    "    return tr\n",
    "rl = np.array([epoch(100) for _ in range(250)])\n",
    "print(rl[:10])\n",
    "print(rl.mean())"
   ]
  },
  {
   "cell_type": "code",
   "execution_count": 4,
   "metadata": {},
   "outputs": [
    {
     "name": "stdout",
     "output_type": "stream",
     "text": [
      "[81 70 74 77 82 74 81 80 77 78]\n",
      "78.828\n"
     ]
    }
   ],
   "source": [
    "from collections import Counter\n",
    "ssp = [1, 1, 1, 1, 0]\n",
    "def epoch(n):\n",
    "    tr = 0\n",
    "    asp = [0, 1]\n",
    "    for _ in range(n):\n",
    "        c = Counter(asp)\n",
    "        a = c.most_common()[0][0]\n",
    "        s = rng.choice(ssp)\n",
    "        if a == s:\n",
    "            tr += 1\n",
    "        asp.append(s)\n",
    "    return tr\n",
    "rl = np.array([epoch(100) for _ in range(250)])\n",
    "print(rl[:10])\n",
    "print(rl.mean())"
   ]
  },
  {
   "cell_type": "code",
   "execution_count": 5,
   "metadata": {},
   "outputs": [
    {
     "name": "stdout",
     "output_type": "stream",
     "text": [
      "[ 92  96 106  99  96 107 101 106  92 117]\n",
      "101.22\n"
     ]
    }
   ],
   "source": [
    "ssp = [1, 2, 3, 4, 4, 4, 4, 4, 5, 6]\n",
    "asp = [1, 2, 3, 4, 5, 6]\n",
    "def epoch():\n",
    "    tr = 0\n",
    "    for _ in range(600):\n",
    "        a = rng.choice(asp)\n",
    "        s = rng.choice(ssp)\n",
    "        if a == s:\n",
    "            tr += 1\n",
    "    return tr\n",
    "rl = np.array([epoch() for _ in range(250)])\n",
    "print(rl[:10])\n",
    "print(rl.mean())"
   ]
  },
  {
   "cell_type": "code",
   "execution_count": 6,
   "metadata": {},
   "outputs": [
    {
     "name": "stdout",
     "output_type": "stream",
     "text": [
      "[182 174 162 157 184 167 190 208 171 153]\n",
      "176.296\n"
     ]
    }
   ],
   "source": [
    "def epoch():\n",
    "    tr = 0\n",
    "    asp = [1, 2, 3, 4, 5, 6]\n",
    "    for _ in range(600):\n",
    "        a = rng.choice(asp)\n",
    "        s = rng.choice(ssp)\n",
    "        if a == s:\n",
    "            tr += 1\n",
    "        asp.append(s)\n",
    "    return tr\n",
    "rl = np.array([epoch() for _ in range(250)])\n",
    "print(rl[:10])\n",
    "print(rl.mean())"
   ]
  },
  {
   "cell_type": "code",
   "execution_count": 7,
   "metadata": {},
   "outputs": [
    {
     "name": "stdout",
     "output_type": "stream",
     "text": [
      "[305 288 312 306 318 302 304 311 313 281]\n",
      "297.204\n"
     ]
    }
   ],
   "source": [
    "def epoch():\n",
    "    tr = 0\n",
    "    asp = [1, 2, 3, 4, 5, 6]\n",
    "    for _ in range(600):\n",
    "        c = Counter(asp)\n",
    "        a = c.most_common()[0][0]\n",
    "        s = rng.choice(ssp)\n",
    "        if a == s:\n",
    "            tr += 1\n",
    "        asp.append(s)\n",
    "    return tr\n",
    "rl = np.array([epoch() for _ in range(250)])\n",
    "print(rl[:10])\n",
    "print(rl.mean())"
   ]
  },
  {
   "cell_type": "code",
   "execution_count": 8,
   "metadata": {},
   "outputs": [
    {
     "name": "stdout",
     "output_type": "stream",
     "text": [
      "[44 47 48 44 51 50 47 53 60 47]\n",
      "50.264\n"
     ]
    }
   ],
   "source": [
    "from collections import Counter\n",
    "ssp = [1, 0]\n",
    "def epoch(n):\n",
    "    tr = 0\n",
    "    asp = [0, 1]\n",
    "    for _ in range(n):\n",
    "        c = Counter(asp)\n",
    "        a = c.most_common()[0][0]\n",
    "        s = rng.choice(ssp)\n",
    "        if a == s:\n",
    "            tr += 1\n",
    "        asp.append(s)\n",
    "    return tr\n",
    "rl = np.array([epoch(100) for _ in range(250)])\n",
    "print(rl[:10])\n",
    "print(rl.mean())"
   ]
  }
 ],
 "metadata": {
  "kernelspec": {
   "display_name": "Python 3",
   "language": "python",
   "name": "python3"
  },
  "language_info": {
   "codemirror_mode": {
    "name": "ipython",
    "version": 3
   },
   "file_extension": ".py",
   "mimetype": "text/x-python",
   "name": "python",
   "nbconvert_exporter": "python",
   "pygments_lexer": "ipython3",
   "version": "3.12.4"
  }
 },
 "nbformat": 4,
 "nbformat_minor": 2
}
