{
 "cells": [
  {
   "cell_type": "code",
   "execution_count": 4,
   "metadata": {},
   "outputs": [],
   "source": [
    "from numpy import random\n",
    "class ActionSpace:\n",
    "    def sample(self):\n",
    "        return random.randint(0, 1)"
   ]
  },
  {
   "cell_type": "code",
   "execution_count": 5,
   "metadata": {},
   "outputs": [],
   "source": [
    "import numpy as np\n",
    "import pandas as pd\n",
    "from numpy.random import default_rng\n",
    "\n",
    "rng = default_rng(seed=100)\n",
    "\n",
    "class NoisyData:\n",
    "    url = 'https://certificate.tpq.io/findata.csv'\n",
    "    def __init__(self, symbol, feature, n_features=4,\n",
    "    min_accuracy=0.485, noise=True,\n",
    "    noise_std=0.001):\n",
    "        self.symbol = symbol\n",
    "        self.feature = feature\n",
    "        self.n_features = n_features\n",
    "        self.noise = noise\n",
    "        self.noise_std = noise_std\n",
    "        self.action_space = ActionSpace()\n",
    "        self.min_accuracy = min_accuracy\n",
    "        self._get_data()\n",
    "        self._prepare_data()\n",
    "        def _get_data(self):\n",
    "            self.raw = pd.read_csv(self.url,\n",
    "            index_col=0, parse_dates=True)\n",
    "\n",
    "class NoisyData(NoisyData):\n",
    "    def _prepare_data(self):\n",
    "        self.data = pd.DataFrame(self.raw[self.symbol]).dropna()\n",
    "        if self.noise:\n",
    "            std = self.data.mean() * self.noise_std\n",
    "            self.data[self.symbol] = (self.data[self.symbol] +\n",
    "                rng.normal(0, std, len(self.data)))\n",
    "        self.data['r'] = np.log(self.data / self.data.shift(1))\n",
    "        self.data['d'] = np.where(self.data['r'] > 0, 1, 0)\n",
    "        self.data.dropna(inplace=True)\n",
    "        ma, mi = self.data.max(), self.data.min()\n",
    "        self.data_ = (self.data - mi) / (ma - mi)\n",
    "    def reset(self):\n",
    "        if self.noise:\n",
    "            self._prepare_data()\n",
    "        self.bar = self.n_features\n",
    "        self.treward = 0\n",
    "        state = self.data_[self.feature].iloc[\n",
    "            self.bar - self.n_features:self.bar].values\n",
    "        return state, {}\n",
    "    \n",
    "class NoisyData(NoisyData):\n",
    "    def step(self, action):\n",
    "        if action == self.data['d'].iloc[self.bar]:\n",
    "            correct = True\n",
    "        else:\n",
    "            correct = False\n",
    "        reward = 1 if correct else 0\n",
    "        self.treward += reward\n",
    "        self.bar += 1\n",
    "        self.accuracy = self.treward / (self.bar - self.n_features)\n",
    "        if self.bar >= len(self.data):\n",
    "            done = True\n",
    "        elif reward == 1:\n",
    "            done = False\n",
    "        elif (self.accuracy < self.min_accuracy and\n",
    "        self.bar > self.n_features + 15):\n",
    "            done = True\n",
    "        else:\n",
    "            done = False\n",
    "        next_state = self.data_[self.feature].iloc[\n",
    "            self.bar - self.n_features:self.bar].values\n",
    "        return next_state, reward, done, False, {}"
   ]
  },
  {
   "cell_type": "code",
   "execution_count": null,
   "metadata": {},
   "outputs": [],
   "source": [
    "fin = NoisyData(symbol='EUR=', feature='EUR=', noise=True, noise_std=0.005)\n",
    "fin.reset()\n",
    "fin.reset()\n",
    "fin = NoisyData('EUR=', 'r', n_features=4,noise=True, noise_std=0.005)\n"
   ]
  }
 ],
 "metadata": {
  "kernelspec": {
   "display_name": "Python 3",
   "language": "python",
   "name": "python3"
  },
  "language_info": {
   "codemirror_mode": {
    "name": "ipython",
    "version": 3
   },
   "file_extension": ".py",
   "mimetype": "text/x-python",
   "name": "python",
   "nbconvert_exporter": "python",
   "pygments_lexer": "ipython3",
   "version": "3.12.4"
  }
 },
 "nbformat": 4,
 "nbformat_minor": 2
}
